{
 "cells": [
  {
   "cell_type": "markdown",
   "metadata": {},
   "source": [
    "# Pandas - dataframe - obliczenia - zadania"
   ]
  },
  {
   "cell_type": "markdown",
   "metadata": {},
   "source": [
    "## DataFrame Statistics\n",
    "\n",
    "1. Ustaw ziarno losowości na zero\n",
    "1. Stwórz ``cars: pd.DataFrame`` z 50 wierszami:\n",
    "\n",
    "    * kolumna ``mileage`` - losowe ``int`` [0, 200_000)\n",
    "    * kolumna ``consumption`` - losowe ``int`` [0, 20)\n",
    "\n",
    "1. Dodaj kolumnę ``status`` o wartościach:\n",
    "\n",
    "    * ``old`` jeżeli ``mileage`` powyżej 100_000 km\n",
    "    * ``young`` jeżeli ``mileage`` od 10_000 km do 50_000 km\n",
    "    * ``new`` jeżeli ``mileage`` od 0 do 10_000 km\n",
    "\n",
    "1. Używając ``pd.cut`` dodaj kolumnę ``type``:\n",
    "\n",
    "    * jeżeli ``consumption`` [0, 1] ``type`` to ``electric``\n",
    "    * jeżeli ``consumption`` [2, 10] ``type`` to ``car``\n",
    "    * jeżeli ``consumption`` 11 i więcej, ``type`` to ``truck``\n",
    "\n",
    "1. Przeanalizuj dane statystycznie:\n",
    "\n",
    "    * Wypisz podstawowe statystyki opisowe (``DataFrame.describe()``)\n",
    "    * Sprawdź liczność grup (``DataFrame.count()``, ``Series.value_counts()``)\n",
    "\n",
    "Dla chętnych:\n",
    "1. (wymaga wiedzy z przyszłych rozdziałów)\n",
    "1. Narysuj histogram dla ``consumption``\n",
    "1. Pogrupuj dane po ``type`` i ``status`` a następnie wypisz statystyki opisowe\n",
    "1. Pogrupuj dane po ``type`` i ``status``, wypisz statystyki opisowe a następnie je transponuj"
   ]
  },
  {
   "cell_type": "code",
   "execution_count": null,
   "metadata": {},
   "outputs": [],
   "source": []
  },
  {
   "cell_type": "markdown",
   "metadata": {},
   "source": [
    "## DataFrame Groupby Phones\n",
    "\n",
    "1. Użyj danych z sekcji \"Input\" (patrz poniżej)\n",
    "1. Wczytaj dane z ``DATA`` jako ``phones: pd.DataFrame``\n",
    "1. Podaj informacje o łącznej liczbie wszystkich połączeń dla każdego miesiąca"
   ]
  },
  {
   "cell_type": "code",
   "execution_count": null,
   "metadata": {},
   "outputs": [],
   "source": [
    "DATA = 'https://python.astrotech.io/_static/phones-pl.csv'"
   ]
  },
  {
   "cell_type": "markdown",
   "metadata": {},
   "source": [
    "## DataFrame Groupby Astro EVA\n",
    "\n",
    "1. Użyj danych z sekcji \"Input\" (patrz poniżej)\n",
    "1. Wczytaj dane z ``DATA`` jako ``astro_eva: pd.DataFrame``\n",
    "1. Stwórz ranking astronautów z największym czasem EVA (Spacerów kosmicznych)\n",
    "\n",
    "Podpowiedź:\n",
    "* Sparsuj CSV i podmień newline wewnątrz pól na ``\",\"``\n",
    "* Podziel pole spacewalker na osobne kolumny (pierwszy, drugi, trzeci)\n",
    "* Podziel nazwiska spacewalkerów na osobne kolumny (use ffill)\n",
    "* Podziel czasy na osobne kolumny (godziny, minuty)"
   ]
  },
  {
   "cell_type": "code",
   "execution_count": null,
   "metadata": {},
   "outputs": [],
   "source": [
    "DATA = 'https://python.astrotech.io/_static/astro-eva.csv'"
   ]
  }
 ],
 "metadata": {
  "kernelspec": {
   "display_name": "Python 3",
   "language": "python",
   "name": "python3"
  },
  "language_info": {
   "codemirror_mode": {
    "name": "ipython",
    "version": 3
   },
   "file_extension": ".py",
   "mimetype": "text/x-python",
   "name": "python",
   "nbconvert_exporter": "python",
   "pygments_lexer": "ipython3",
   "version": "3.8.5"
  }
 },
 "nbformat": 4,
 "nbformat_minor": 4
}
