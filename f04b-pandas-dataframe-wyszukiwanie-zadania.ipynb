{
 "cells": [
  {
   "cell_type": "markdown",
   "metadata": {},
   "source": [
    "# Pandas - DataFrame - wyszukiwanie - zadania"
   ]
  },
  {
   "cell_type": "markdown",
   "metadata": {},
   "source": [
    "## DataFrame Sample\n",
    "\n",
    "1. Użyj danych z sekcji \"Input\" (patrz poniżej)\n",
    "1. Wczytaj dane z ``DATA`` jako ``astronauts: pd.DataFrame``\n",
    "1. W danych kolumna \"Order\":\n",
    "\n",
    "    - określa kolejność astronauty/kosmonauty w kosmosie\n",
    "    - Czasami kilka osób leciało tym samym statkiem i ich numery powinny być takie same, a w danych jest ``NaN``.\n",
    "    - Wypełnij brakujące indeksy stosując ``df.ffill()``\n",
    "\n",
    "1. Ustaw wszystkie wiersze w losowej kolejności\n",
    "1. Zresetuj index nie pozostawiając kopii zapasowej starego\n",
    "1. Wypisz\n",
    "\n",
    "    * Pierwsze trzy wiersze\n",
    "    * Ostatnie 10% wierszy"
   ]
  },
  {
   "cell_type": "code",
   "execution_count": null,
   "metadata": {},
   "outputs": [],
   "source": [
    "DATA = 'https://python.astrotech.io/_static/astro-flights.csv'"
   ]
  },
  {
   "cell_type": "markdown",
   "metadata": {},
   "source": [
    "## DataFrame Select\n",
    "\n",
    "1. Użyj danych z sekcji \"Input\" (patrz poniżej)\n",
    "1. Wczytaj dane z ``DATA`` jako ``iris: pd.DataFrame``\n",
    "1. Przefiltruj ``inplace`` kolumnę 'Petal length' i pozostaw wartości powyżej 2.0\n",
    "1. Wyświetl 5 pierwszych wierszy"
   ]
  },
  {
   "cell_type": "code",
   "execution_count": null,
   "metadata": {},
   "outputs": [],
   "source": [
    "DATA = 'https://python.astrotech.io/_static/iris-clean.csv'"
   ]
  }
 ],
 "metadata": {
  "kernelspec": {
   "display_name": "Python 3",
   "language": "python",
   "name": "python3"
  },
  "language_info": {
   "codemirror_mode": {
    "name": "ipython",
    "version": 3
   },
   "file_extension": ".py",
   "mimetype": "text/x-python",
   "name": "python",
   "nbconvert_exporter": "python",
   "pygments_lexer": "ipython3",
   "version": "3.8.5"
  }
 },
 "nbformat": 4,
 "nbformat_minor": 4
}
