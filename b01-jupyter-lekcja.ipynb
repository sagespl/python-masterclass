{
 "cells": [
  {
   "cell_type": "markdown",
   "metadata": {
    "slideshow": {
     "slide_type": "slide"
    }
   },
   "source": [
    "# Jupyter wprowadzenie\n",
    "\n",
    "Witaj świecie Jyputera!"
   ]
  },
  {
   "cell_type": "code",
   "execution_count": 41,
   "metadata": {
    "slideshow": {
     "slide_type": "slide"
    }
   },
   "outputs": [],
   "source": [
    "import numpy as np\n",
    "import matplotlib.pyplot as plt\n",
    "import pandas as pd"
   ]
  },
  {
   "cell_type": "markdown",
   "metadata": {
    "slideshow": {
     "slide_type": "slide"
    }
   },
   "source": [
    "## Trochę o Markdown\n",
    "\n",
    "* pierwszy\n",
    "* drugi\n",
    "* trzeci \n",
    "\n",
    "\n",
    "- **pierwszy**\n",
    "\n",
    "    - sub pierwszy\n",
    "    - sub drugi\n",
    "\n",
    "- *drugi*\n",
    "- trzeci\n",
    "\n",
    "\n",
    "5. trzeci\n",
    "5. drugi\n",
    "5. pierwszy\n",
    "\n",
    "|imie|nazwisko    |wiek|\n",
    "|:---|-----------:|:--:|\n",
    "|Jan | Twardowski | 42 |\n",
    "|Mark|Watney|30|\n",
    "\n",
    "\n",
    "|imie|nazwisko|\n",
    "|-|-|\n",
    "|Jan|Twardowski|\n",
    "\n",
    "| Imię | Nazwisko   | Wiek |\n",
    "|------|------------|------|\n",
    "| Jan  | Twardowski | 42   |\n",
    "| Mark | Watney     | 30   |\n",
    "|      |            |      |\n",
    "\n",
    "Wykorzystaj polecenie `pip install jupyter`\n",
    "\n",
    "\n",
    "\n",
    "```python\n",
    "\n",
    "name = 'Jan'\n",
    "print(name)\n",
    "```"
   ]
  },
  {
   "cell_type": "code",
   "execution_count": 1,
   "metadata": {
    "slideshow": {
     "slide_type": "slide"
    }
   },
   "outputs": [
    {
     "name": "stdout",
     "output_type": "stream",
     "text": [
      "Jan\n"
     ]
    }
   ],
   "source": [
    "name = 'Jan'\n",
    "print(name)"
   ]
  },
  {
   "cell_type": "code",
   "execution_count": 11,
   "metadata": {
    "slideshow": {
     "slide_type": "slide"
    }
   },
   "outputs": [],
   "source": [
    "%magic"
   ]
  },
  {
   "cell_type": "code",
   "execution_count": 10,
   "metadata": {
    "slideshow": {
     "slide_type": "slide"
    }
   },
   "outputs": [
    {
     "name": "stdout",
     "output_type": "stream",
     "text": [
      "154 ns ± 4.22 ns per loop (mean ± std. dev. of 10 runs, 1000000 loops each)\n"
     ]
    }
   ],
   "source": [
    "%%timeit -r 10 -n 1_000_000\n",
    "\n",
    "first_name = 'Jan'\n",
    "last_name = 'Twardowski'\n",
    "\n",
    "full_name = first_name + ' ' + last_name"
   ]
  },
  {
   "cell_type": "code",
   "execution_count": 9,
   "metadata": {
    "slideshow": {
     "slide_type": "slide"
    }
   },
   "outputs": [
    {
     "name": "stdout",
     "output_type": "stream",
     "text": [
      "127 ns ± 3.49 ns per loop (mean ± std. dev. of 10 runs, 1000000 loops each)\n"
     ]
    }
   ],
   "source": [
    "%%timeit -r 10 -n 1_000_000\n",
    "\n",
    "first_name = 'Jan'\n",
    "last_name = 'Twardowski'\n",
    "\n",
    "full_name = f'{first_name} {last_name}'"
   ]
  },
  {
   "cell_type": "code",
   "execution_count": 14,
   "metadata": {
    "slideshow": {
     "slide_type": "slide"
    }
   },
   "outputs": [
    {
     "name": "stdout",
     "output_type": "stream",
     "text": [
      "Requirement already satisfied: jupyter in ./python38/lib/python3.8/site-packages (1.0.0)\n",
      "Requirement already satisfied: nbconvert in ./python38/lib/python3.8/site-packages (from jupyter) (5.6.1)\n",
      "Requirement already satisfied: ipywidgets in ./python38/lib/python3.8/site-packages (from jupyter) (7.5.1)\n",
      "Requirement already satisfied: jupyter-console in ./python38/lib/python3.8/site-packages (from jupyter) (6.1.0)\n",
      "Requirement already satisfied: ipykernel in ./python38/lib/python3.8/site-packages (from jupyter) (5.3.0)\n",
      "Requirement already satisfied: notebook in ./python38/lib/python3.8/site-packages (from jupyter) (6.0.3)\n",
      "Requirement already satisfied: qtconsole in ./python38/lib/python3.8/site-packages (from jupyter) (4.7.4)\n",
      "Requirement already satisfied: testpath in ./python38/lib/python3.8/site-packages (from nbconvert->jupyter) (0.4.4)\n",
      "Requirement already satisfied: jinja2>=2.4 in ./python38/lib/python3.8/site-packages (from nbconvert->jupyter) (2.11.2)\n",
      "Requirement already satisfied: nbformat>=4.4 in ./python38/lib/python3.8/site-packages (from nbconvert->jupyter) (5.0.7)\n",
      "Requirement already satisfied: pandocfilters>=1.4.1 in ./python38/lib/python3.8/site-packages (from nbconvert->jupyter) (1.4.2)\n",
      "Requirement already satisfied: entrypoints>=0.2.2 in ./python38/lib/python3.8/site-packages (from nbconvert->jupyter) (0.3)\n",
      "Requirement already satisfied: defusedxml in ./python38/lib/python3.8/site-packages (from nbconvert->jupyter) (0.6.0)\n",
      "Requirement already satisfied: jupyter-core in ./python38/lib/python3.8/site-packages (from nbconvert->jupyter) (4.6.3)\n",
      "Requirement already satisfied: bleach in ./python38/lib/python3.8/site-packages (from nbconvert->jupyter) (3.1.5)\n",
      "Requirement already satisfied: traitlets>=4.2 in ./python38/lib/python3.8/site-packages (from nbconvert->jupyter) (4.3.3)\n",
      "Requirement already satisfied: mistune<2,>=0.8.1 in ./python38/lib/python3.8/site-packages (from nbconvert->jupyter) (0.8.4)\n",
      "Requirement already satisfied: pygments in ./python38/lib/python3.8/site-packages (from nbconvert->jupyter) (2.6.1)\n",
      "Requirement already satisfied: widgetsnbextension~=3.5.0 in ./python38/lib/python3.8/site-packages (from ipywidgets->jupyter) (3.5.1)\n",
      "Requirement already satisfied: ipython>=4.0.0; python_version >= \"3.3\" in ./python38/lib/python3.8/site-packages (from ipywidgets->jupyter) (7.15.0)\n",
      "Requirement already satisfied: jupyter-client in ./python38/lib/python3.8/site-packages (from jupyter-console->jupyter) (6.1.3)\n",
      "Requirement already satisfied: prompt-toolkit!=3.0.0,!=3.0.1,<3.1.0,>=2.0.0 in ./python38/lib/python3.8/site-packages (from jupyter-console->jupyter) (3.0.5)\n",
      "Requirement already satisfied: tornado>=4.2 in ./python38/lib/python3.8/site-packages (from ipykernel->jupyter) (6.0.4)\n",
      "Requirement already satisfied: appnope; platform_system == \"Darwin\" in ./python38/lib/python3.8/site-packages (from ipykernel->jupyter) (0.1.0)\n",
      "Requirement already satisfied: Send2Trash in ./python38/lib/python3.8/site-packages (from notebook->jupyter) (1.5.0)\n",
      "Requirement already satisfied: terminado>=0.8.1 in ./python38/lib/python3.8/site-packages (from notebook->jupyter) (0.8.3)\n",
      "Requirement already satisfied: prometheus-client in ./python38/lib/python3.8/site-packages (from notebook->jupyter) (0.8.0)\n",
      "Requirement already satisfied: pyzmq>=17 in ./python38/lib/python3.8/site-packages (from notebook->jupyter) (19.0.1)\n",
      "Requirement already satisfied: ipython-genutils in ./python38/lib/python3.8/site-packages (from notebook->jupyter) (0.2.0)\n",
      "Requirement already satisfied: qtpy in ./python38/lib/python3.8/site-packages (from qtconsole->jupyter) (1.9.0)\n",
      "Requirement already satisfied: MarkupSafe>=0.23 in ./python38/lib/python3.8/site-packages (from jinja2>=2.4->nbconvert->jupyter) (1.1.1)\n",
      "Requirement already satisfied: jsonschema!=2.5.0,>=2.4 in ./python38/lib/python3.8/site-packages (from nbformat>=4.4->nbconvert->jupyter) (3.2.0)\n",
      "Requirement already satisfied: webencodings in ./python38/lib/python3.8/site-packages (from bleach->nbconvert->jupyter) (0.5.1)\n",
      "Requirement already satisfied: six>=1.9.0 in ./python38/lib/python3.8/site-packages (from bleach->nbconvert->jupyter) (1.15.0)\n",
      "Requirement already satisfied: packaging in ./python38/lib/python3.8/site-packages (from bleach->nbconvert->jupyter) (20.4)\n",
      "Requirement already satisfied: decorator in ./python38/lib/python3.8/site-packages (from traitlets>=4.2->nbconvert->jupyter) (4.4.2)\n",
      "Requirement already satisfied: setuptools>=18.5 in ./python38/lib/python3.8/site-packages (from ipython>=4.0.0; python_version >= \"3.3\"->ipywidgets->jupyter) (41.2.0)\n",
      "Requirement already satisfied: backcall in ./python38/lib/python3.8/site-packages (from ipython>=4.0.0; python_version >= \"3.3\"->ipywidgets->jupyter) (0.2.0)\n",
      "Requirement already satisfied: jedi>=0.10 in ./python38/lib/python3.8/site-packages (from ipython>=4.0.0; python_version >= \"3.3\"->ipywidgets->jupyter) (0.17.0)\n",
      "Requirement already satisfied: pexpect; sys_platform != \"win32\" in ./python38/lib/python3.8/site-packages (from ipython>=4.0.0; python_version >= \"3.3\"->ipywidgets->jupyter) (4.8.0)\n",
      "Requirement already satisfied: pickleshare in ./python38/lib/python3.8/site-packages (from ipython>=4.0.0; python_version >= \"3.3\"->ipywidgets->jupyter) (0.7.5)\n",
      "Requirement already satisfied: python-dateutil>=2.1 in ./python38/lib/python3.8/site-packages (from jupyter-client->jupyter-console->jupyter) (2.8.1)\n",
      "Requirement already satisfied: wcwidth in ./python38/lib/python3.8/site-packages (from prompt-toolkit!=3.0.0,!=3.0.1,<3.1.0,>=2.0.0->jupyter-console->jupyter) (0.2.4)\n",
      "Requirement already satisfied: ptyprocess; os_name != \"nt\" in ./python38/lib/python3.8/site-packages (from terminado>=0.8.1->notebook->jupyter) (0.6.0)\n",
      "Requirement already satisfied: pyrsistent>=0.14.0 in ./python38/lib/python3.8/site-packages (from jsonschema!=2.5.0,>=2.4->nbformat>=4.4->nbconvert->jupyter) (0.16.0)\n",
      "Requirement already satisfied: attrs>=17.4.0 in ./python38/lib/python3.8/site-packages (from jsonschema!=2.5.0,>=2.4->nbformat>=4.4->nbconvert->jupyter) (19.3.0)\n",
      "Requirement already satisfied: pyparsing>=2.0.2 in ./python38/lib/python3.8/site-packages (from packaging->bleach->nbconvert->jupyter) (2.4.7)\n",
      "Requirement already satisfied: parso>=0.7.0 in ./python38/lib/python3.8/site-packages (from jedi>=0.10->ipython>=4.0.0; python_version >= \"3.3\"->ipywidgets->jupyter) (0.7.0)\n"
     ]
    }
   ],
   "source": [
    "!pip install jupyter"
   ]
  },
  {
   "cell_type": "markdown",
   "metadata": {
    "slideshow": {
     "slide_type": "slide"
    }
   },
   "source": [
    "## Latex"
   ]
  },
  {
   "cell_type": "code",
   "execution_count": 21,
   "metadata": {
    "slideshow": {
     "slide_type": "subslide"
    }
   },
   "outputs": [
    {
     "data": {
      "text/latex": [
       "\n",
       "$$\\int_{x=0}^{x=\\infty} x^\\pi dx$$\n"
      ],
      "text/plain": [
       "<IPython.core.display.Latex object>"
      ]
     },
     "metadata": {},
     "output_type": "display_data"
    }
   ],
   "source": [
    "%%latex\n",
    "\n",
    "$$\\int_{x=0}^{x=\\infty} x^\\pi dx$$"
   ]
  },
  {
   "cell_type": "code",
   "execution_count": 20,
   "metadata": {
    "slideshow": {
     "slide_type": "subslide"
    }
   },
   "outputs": [
    {
     "data": {
      "text/latex": [
       "\n",
       "$$c = \\sqrt{a^2 + b^2}$$\n"
      ],
      "text/plain": [
       "<IPython.core.display.Latex object>"
      ]
     },
     "metadata": {},
     "output_type": "display_data"
    }
   ],
   "source": [
    "%%latex\n",
    "\n",
    "$$c = \\sqrt{a^2 + b^2}$$"
   ]
  },
  {
   "cell_type": "code",
   "execution_count": 22,
   "metadata": {
    "slideshow": {
     "slide_type": "subslide"
    }
   },
   "outputs": [
    {
     "data": {
      "text/latex": [
       "\n",
       "\\begin{equation}\n",
       "H← ​​​60 ​+​ \\frac{​​30(B-R)​​}{Vmax-Vmin}  ​​, if V​max​​ = G\n",
       "\\end{equation}\n"
      ],
      "text/plain": [
       "<IPython.core.display.Latex object>"
      ]
     },
     "metadata": {},
     "output_type": "display_data"
    }
   ],
   "source": [
    "%%latex\n",
    "\n",
    "\\begin{equation}\n",
    "H← ​​​60 ​+​ \\frac{​​30(B-R)​​}{Vmax-Vmin}  ​​, if V​max​​ = G\n",
    "\\end{equation}"
   ]
  },
  {
   "cell_type": "markdown",
   "metadata": {
    "slideshow": {
     "slide_type": "subslide"
    }
   },
   "source": [
    "$ F(k) = \\int_{-\\infty}^{\\infty} f(x) e^{2\\pi i k} dx $"
   ]
  },
  {
   "cell_type": "code",
   "execution_count": 23,
   "metadata": {
    "slideshow": {
     "slide_type": "subslide"
    }
   },
   "outputs": [
    {
     "data": {
      "text/latex": [
       "$\\lim_{x \\to 0} (1+x)^{1/x} = e$"
      ],
      "text/plain": [
       "<IPython.core.display.Latex object>"
      ]
     },
     "execution_count": 23,
     "metadata": {},
     "output_type": "execute_result"
    }
   ],
   "source": [
    "from IPython.display import Latex\n",
    "\n",
    "Latex(r'$\\lim_{x \\to 0} (1+x)^{1/x} = e$')"
   ]
  },
  {
   "cell_type": "markdown",
   "metadata": {
    "slideshow": {
     "slide_type": "slide"
    }
   },
   "source": [
    "## Numpy"
   ]
  },
  {
   "cell_type": "code",
   "execution_count": 26,
   "metadata": {
    "slideshow": {
     "slide_type": "subslide"
    }
   },
   "outputs": [
    {
     "name": "stdout",
     "output_type": "stream",
     "text": [
      "Collecting numpy\n",
      "  Using cached numpy-1.18.5-cp38-cp38-macosx_10_9_x86_64.whl (15.1 MB)\n",
      "Installing collected packages: numpy\n",
      "Successfully installed numpy-1.18.5\n"
     ]
    }
   ],
   "source": [
    "!pip install numpy"
   ]
  },
  {
   "cell_type": "code",
   "execution_count": 77,
   "metadata": {
    "scrolled": true,
    "slideshow": {
     "slide_type": "subslide"
    }
   },
   "outputs": [
    {
     "data": {
      "text/plain": [
       "[<matplotlib.lines.Line2D at 0x11c942c70>]"
      ]
     },
     "execution_count": 77,
     "metadata": {},
     "output_type": "execute_result"
    },
    {
     "data": {
      "image/png": "[encoded data removed]",
      "text/plain": [
       "<Figure size 432x288 with 1 Axes>"
      ]
     },
     "metadata": {
      "needs_background": "light"
     },
     "output_type": "display_data"
    }
   ],
   "source": [
    "x = np.linspace(-5, 5, 100)  # vector z 100 równo odległymi wartościami od -5 do 5\n",
    "y = np.sin(x)                # sinus wszystkich wartości x\n",
    "\n",
    "plt.plot(x, y)"
   ]
  },
  {
   "cell_type": "code",
   "execution_count": 33,
   "metadata": {},
   "outputs": [
    {
     "name": "stdout",
     "output_type": "stream",
     "text": [
      "Collecting matplotlib\n",
      "  Using cached matplotlib-3.2.1-cp38-cp38-macosx_10_9_x86_64.whl (12.4 MB)\n",
      "Requirement already satisfied: pyparsing!=2.0.4,!=2.1.2,!=2.1.6,>=2.0.1 in ./python38/lib/python3.8/site-packages (from matplotlib) (2.4.7)\n",
      "Collecting kiwisolver>=1.0.1\n",
      "  Using cached kiwisolver-1.2.0-cp38-cp38-macosx_10_9_x86_64.whl (60 kB)\n",
      "Requirement already satisfied: numpy>=1.11 in ./python38/lib/python3.8/site-packages (from matplotlib) (1.18.5)\n",
      "Requirement already satisfied: python-dateutil>=2.1 in ./python38/lib/python3.8/site-packages (from matplotlib) (2.8.1)\n",
      "Collecting cycler>=0.10\n",
      "  Using cached cycler-0.10.0-py2.py3-none-any.whl (6.5 kB)\n",
      "Requirement already satisfied: six>=1.5 in ./python38/lib/python3.8/site-packages (from python-dateutil>=2.1->matplotlib) (1.15.0)\n",
      "Installing collected packages: kiwisolver, cycler, matplotlib\n",
      "Successfully installed cycler-0.10.0 kiwisolver-1.2.0 matplotlib-3.2.1\n"
     ]
    }
   ],
   "source": [
    "!pip install matplotlib"
   ]
  },
  {
   "cell_type": "code",
   "execution_count": 39,
   "metadata": {},
   "outputs": [
    {
     "data": {
      "text/plain": [
       "[<matplotlib.lines.Line2D at 0x118437e80>]"
      ]
     },
     "execution_count": 39,
     "metadata": {},
     "output_type": "execute_result"
    },
    {
     "data": {
      "image/png": "[encoded data removed]",
      "text/plain": [
       "<Figure size 432x288 with 1 Axes>"
      ]
     },
     "metadata": {
      "needs_background": "light"
     },
     "output_type": "display_data"
    }
   ],
   "source": [
    "import math\n",
    "import random\n",
    "from matplotlib import pyplot as plt\n",
    "\n",
    "x1 = [x*0.01 for x in range(0,628)]\n",
    "y1 = [math.sin(x*0.01)+random.gauss(0, 0.1) for x in range(0,628)]\n",
    "plt.plot(x1, y1)\n",
    "\n",
    "x2 = [x*0.5 for x in range(0,round(63/5))]\n",
    "y2 = [math.cos(x*0.5) for x in range(0,round(63/5))]\n",
    "plt.plot(x2, y2, 'o-')"
   ]
  },
  {
   "cell_type": "markdown",
   "metadata": {
    "slideshow": {
     "slide_type": "slide"
    }
   },
   "source": [
    "## Pandas"
   ]
  },
  {
   "cell_type": "code",
   "execution_count": 40,
   "metadata": {
    "slideshow": {
     "slide_type": "subslide"
    }
   },
   "outputs": [
    {
     "name": "stdout",
     "output_type": "stream",
     "text": [
      "Collecting pandas\n",
      "  Using cached pandas-1.0.4-cp38-cp38-macosx_10_9_x86_64.whl (10.2 MB)\n",
      "Requirement already satisfied: numpy>=1.13.3 in ./python38/lib/python3.8/site-packages (from pandas) (1.18.5)\n",
      "Collecting pytz>=2017.2\n",
      "  Using cached pytz-2020.1-py2.py3-none-any.whl (510 kB)\n",
      "Requirement already satisfied: python-dateutil>=2.6.1 in ./python38/lib/python3.8/site-packages (from pandas) (2.8.1)\n",
      "Requirement already satisfied: six>=1.5 in ./python38/lib/python3.8/site-packages (from python-dateutil>=2.6.1->pandas) (1.15.0)\n",
      "Installing collected packages: pytz, pandas\n",
      "Successfully installed pandas-1.0.4 pytz-2020.1\n"
     ]
    }
   ],
   "source": [
    "!pip install pandas"
   ]
  },
  {
   "cell_type": "code",
   "execution_count": 78,
   "metadata": {
    "slideshow": {
     "slide_type": "subslide"
    }
   },
   "outputs": [],
   "source": [
    "FILE = 'https://python.astrotech.io/_static/iris.csv'\n",
    "\n",
    "df = pd.read_csv(FILE, skiprows=1, names=[\n",
    "    'Sepal Length',\n",
    "    'Sepal Width',\n",
    "    'Petal Length',\n",
    "    'Petal Width',\n",
    "    'Species',\n",
    "])\n",
    "\n",
    "df['Species'].replace({\n",
    "    0: 'Setosa',\n",
    "    1: 'Versicolor',\n",
    "    2: 'Virginica',\n",
    "}, inplace=True)\n",
    "\n",
    "df = df.sample(frac=1.0).reset_index(drop=True)"
   ]
  },
  {
   "cell_type": "code",
   "execution_count": 68,
   "metadata": {
    "slideshow": {
     "slide_type": "subslide"
    }
   },
   "outputs": [
    {
     "data": {
      "text/html": [
       "<div>\n",
       "<style scoped>\n",
       "    .dataframe tbody tr th:only-of-type {\n",
       "        vertical-align: middle;\n",
       "    }\n",
       "\n",
       "    .dataframe tbody tr th {\n",
       "        vertical-align: top;\n",
       "    }\n",
       "\n",
       "    .dataframe thead th {\n",
       "        text-align: right;\n",
       "    }\n",
       "</style>\n",
       "<table border=\"1\" class=\"dataframe\">\n",
       "  <thead>\n",
       "    <tr style=\"text-align: right;\">\n",
       "      <th></th>\n",
       "      <th>Sepal Length</th>\n",
       "      <th>Sepal Width</th>\n",
       "      <th>Petal Length</th>\n",
       "      <th>Petal Width</th>\n",
       "      <th>Species</th>\n",
       "    </tr>\n",
       "  </thead>\n",
       "  <tbody>\n",
       "    <tr>\n",
       "      <th>0</th>\n",
       "      <td>6.6</td>\n",
       "      <td>3.0</td>\n",
       "      <td>4.4</td>\n",
       "      <td>1.4</td>\n",
       "      <td>Versicolor</td>\n",
       "    </tr>\n",
       "    <tr>\n",
       "      <th>1</th>\n",
       "      <td>5.8</td>\n",
       "      <td>2.7</td>\n",
       "      <td>5.1</td>\n",
       "      <td>1.9</td>\n",
       "      <td>Virginica</td>\n",
       "    </tr>\n",
       "    <tr>\n",
       "      <th>2</th>\n",
       "      <td>6.3</td>\n",
       "      <td>2.7</td>\n",
       "      <td>4.9</td>\n",
       "      <td>1.8</td>\n",
       "      <td>Virginica</td>\n",
       "    </tr>\n",
       "    <tr>\n",
       "      <th>3</th>\n",
       "      <td>5.0</td>\n",
       "      <td>3.3</td>\n",
       "      <td>1.4</td>\n",
       "      <td>0.2</td>\n",
       "      <td>Setosa</td>\n",
       "    </tr>\n",
       "    <tr>\n",
       "      <th>4</th>\n",
       "      <td>6.1</td>\n",
       "      <td>3.0</td>\n",
       "      <td>4.6</td>\n",
       "      <td>1.4</td>\n",
       "      <td>Versicolor</td>\n",
       "    </tr>\n",
       "    <tr>\n",
       "      <th>...</th>\n",
       "      <td>...</td>\n",
       "      <td>...</td>\n",
       "      <td>...</td>\n",
       "      <td>...</td>\n",
       "      <td>...</td>\n",
       "    </tr>\n",
       "    <tr>\n",
       "      <th>145</th>\n",
       "      <td>6.3</td>\n",
       "      <td>2.8</td>\n",
       "      <td>5.1</td>\n",
       "      <td>1.5</td>\n",
       "      <td>Virginica</td>\n",
       "    </tr>\n",
       "    <tr>\n",
       "      <th>146</th>\n",
       "      <td>6.4</td>\n",
       "      <td>2.8</td>\n",
       "      <td>5.6</td>\n",
       "      <td>2.2</td>\n",
       "      <td>Virginica</td>\n",
       "    </tr>\n",
       "    <tr>\n",
       "      <th>147</th>\n",
       "      <td>5.6</td>\n",
       "      <td>2.9</td>\n",
       "      <td>3.6</td>\n",
       "      <td>1.3</td>\n",
       "      <td>Versicolor</td>\n",
       "    </tr>\n",
       "    <tr>\n",
       "      <th>148</th>\n",
       "      <td>5.0</td>\n",
       "      <td>3.5</td>\n",
       "      <td>1.3</td>\n",
       "      <td>0.3</td>\n",
       "      <td>Setosa</td>\n",
       "    </tr>\n",
       "    <tr>\n",
       "      <th>149</th>\n",
       "      <td>5.9</td>\n",
       "      <td>3.2</td>\n",
       "      <td>4.8</td>\n",
       "      <td>1.8</td>\n",
       "      <td>Versicolor</td>\n",
       "    </tr>\n",
       "  </tbody>\n",
       "</table>\n",
       "<p>150 rows × 5 columns</p>\n",
       "</div>"
      ],
      "text/plain": [
       "     Sepal Length  Sepal Width  Petal Length  Petal Width     Species\n",
       "0             6.6          3.0           4.4          1.4  Versicolor\n",
       "1             5.8          2.7           5.1          1.9   Virginica\n",
       "2             6.3          2.7           4.9          1.8   Virginica\n",
       "3             5.0          3.3           1.4          0.2      Setosa\n",
       "4             6.1          3.0           4.6          1.4  Versicolor\n",
       "..            ...          ...           ...          ...         ...\n",
       "145           6.3          2.8           5.1          1.5   Virginica\n",
       "146           6.4          2.8           5.6          2.2   Virginica\n",
       "147           5.6          2.9           3.6          1.3  Versicolor\n",
       "148           5.0          3.5           1.3          0.3      Setosa\n",
       "149           5.9          3.2           4.8          1.8  Versicolor\n",
       "\n",
       "[150 rows x 5 columns]"
      ]
     },
     "execution_count": 68,
     "metadata": {},
     "output_type": "execute_result"
    }
   ],
   "source": [
    "df"
   ]
  },
  {
   "cell_type": "code",
   "execution_count": 73,
   "metadata": {
    "slideshow": {
     "slide_type": "subslide"
    }
   },
   "outputs": [
    {
     "data": {
      "text/plain": [
       "<matplotlib.axes._subplots.AxesSubplot at 0x11c71b340>"
      ]
     },
     "execution_count": 73,
     "metadata": {},
     "output_type": "execute_result"
    },
    {
     "data": {
      "image/png": "[encoded data removed]",
      "text/plain": [
       "<Figure size 432x288 with 1 Axes>"
      ]
     },
     "metadata": {
      "needs_background": "light"
     },
     "output_type": "display_data"
    }
   ],
   "source": [
    "df['Sepal Length'].plot(kind='density')"
   ]
  },
  {
   "cell_type": "code",
   "execution_count": 72,
   "metadata": {
    "slideshow": {
     "slide_type": "subslide"
    }
   },
   "outputs": [
    {
     "name": "stdout",
     "output_type": "stream",
     "text": [
      "Collecting scipy\n",
      "  Using cached scipy-1.4.1-cp38-cp38-macosx_10_9_x86_64.whl (28.8 MB)\n",
      "Requirement already satisfied: numpy>=1.13.3 in ./python38/lib/python3.8/site-packages (from scipy) (1.18.5)\n",
      "Installing collected packages: scipy\n",
      "Successfully installed scipy-1.4.1\n"
     ]
    }
   ],
   "source": [
    "!pip install scipy"
   ]
  },
  {
   "cell_type": "code",
   "execution_count": 74,
   "metadata": {
    "slideshow": {
     "slide_type": "subslide"
    }
   },
   "outputs": [
    {
     "data": {
      "text/plain": [
       "<matplotlib.axes._subplots.AxesSubplot at 0x12d09af70>"
      ]
     },
     "execution_count": 74,
     "metadata": {},
     "output_type": "execute_result"
    },
    {
     "data": {
      "image/png": "[encoded data removed]",
      "text/plain": [
       "<Figure size 432x288 with 1 Axes>"
      ]
     },
     "metadata": {
      "needs_background": "light"
     },
     "output_type": "display_data"
    }
   ],
   "source": [
    "df.plot(kind='density')"
   ]
  },
  {
   "cell_type": "code",
   "execution_count": 75,
   "metadata": {
    "slideshow": {
     "slide_type": "subslide"
    }
   },
   "outputs": [],
   "source": [
    "df.plot?"
   ]
  },
  {
   "cell_type": "code",
   "execution_count": 76,
   "metadata": {
    "slideshow": {
     "slide_type": "subslide"
    }
   },
   "outputs": [
    {
     "data": {
      "text/plain": [
       "array([[<matplotlib.axes._subplots.AxesSubplot object at 0x11cf77c10>,\n",
       "        <matplotlib.axes._subplots.AxesSubplot object at 0x11cf11df0>],\n",
       "       [<matplotlib.axes._subplots.AxesSubplot object at 0x11cf38850>,\n",
       "        <matplotlib.axes._subplots.AxesSubplot object at 0x11ce31b80>]],\n",
       "      dtype=object)"
      ]
     },
     "execution_count": 76,
     "metadata": {},
     "output_type": "execute_result"
    },
    {
     "data": {
      "image/png": "[encoded data removed]",
      "text/plain": [
       "<Figure size 432x288 with 4 Axes>"
      ]
     },
     "metadata": {
      "needs_background": "light"
     },
     "output_type": "display_data"
    }
   ],
   "source": [
    "df.hist()"
   ]
  },
  {
   "cell_type": "code",
   "execution_count": null,
   "metadata": {},
   "outputs": [],
   "source": []
  }
 ],
 "metadata": {
  "celltoolbar": "Slideshow",
  "kernelspec": {
   "display_name": "Python 3",
   "language": "python",
   "name": "python3"
  },
  "language_info": {
   "codemirror_mode": {
    "name": "ipython",
    "version": 3
   },
   "file_extension": ".py",
   "mimetype": "text/x-python",
   "name": "python",
   "nbconvert_exporter": "python",
   "pygments_lexer": "ipython3",
   "version": "3.8.2"
  }
 },
 "nbformat": 4,
 "nbformat_minor": 4
}
