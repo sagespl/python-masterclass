{
 "cells": [
  {
   "cell_type": "markdown",
   "metadata": {},
   "source": [
    "# Pandas - wczytywanie danych - zadania"
   ]
  },
  {
   "cell_type": "markdown",
   "metadata": {},
   "source": [
    "## Pandas Read CSV Dates\n",
    "\n",
    "1. Użyj danych z sekcji \"Input\" (patrz poniżej)\n",
    "1. Wczytaj dane z ``URL`` do ``df: pd.DataFrame``\n",
    "1. Sparsuj daty w kolumnie \"Mission Date\"\n",
    "\n",
    "Podpowiedź:\n",
    "* ``parse_dates`` argument"
   ]
  },
  {
   "cell_type": "code",
   "execution_count": null,
   "metadata": {},
   "outputs": [],
   "source": [
    "URL = 'https://python.astrotech.io/_static/astro-dates.csv'"
   ]
  },
  {
   "cell_type": "markdown",
   "metadata": {},
   "source": [
    "## Pandas Read CSV Replace\n",
    "\n",
    "1. Użyj danych z sekcji \"Input\" (patrz poniżej)\n",
    "1. Wczytaj dane z ``URL`` do ``DataFrame``\n",
    "1. Użyj podanych w ``COLUMNS`` nazw kolumn\n",
    "1. Wczytaj nazwy labeli z pierwszego wiersza\n",
    "1. Podmień dane w kolumnie ``label`` na wartości wyciągnięte powyżej\n",
    "1. Wypisz pierwsze 5 wierszy z ``df: pd.DataFrame``\n",
    "\n",
    "Podpowiedź:\n",
    "* ``pd.read_csv(url, nrows=0).columns``\n",
    "* ``df['label'].replace({'from': 'to'}, inplace=True)``"
   ]
  },
  {
   "cell_type": "code",
   "execution_count": 1,
   "metadata": {},
   "outputs": [],
   "source": [
    "URL = 'https://python.astrotech.io/_static/breast-cancer.csv'\n",
    "\n",
    "COLUMNS = ['mean radius', 'mean texture', 'mean perimeter', 'mean area',\n",
    "           'mean smoothness', 'mean compactness', 'mean concavity',\n",
    "           'mean concave points', 'mean symmetry', 'mean fractal dimension',\n",
    "           'radius error', 'texture error', 'perimeter error', 'area error',\n",
    "           'smoothness error', 'compactness error', 'concavity error',\n",
    "           'concave points error', 'symmetry error',\n",
    "           'fractal dimension error', 'worst radius', 'worst texture',\n",
    "           'worst perimeter', 'worst area', 'worst smoothness',\n",
    "           'worst compactness', 'worst concavity', 'worst concave points',\n",
    "           'worst symmetry', 'worst fractal dimension', 'label']"
   ]
  },
  {
   "cell_type": "markdown",
   "metadata": {},
   "source": [
    "## Pandas Read JSON\n",
    "\n",
    "1. Użyj danych z sekcji \"Input\" (patrz poniżej)\n",
    "1. Za pomocą ``pd.read_json()`` wczytaj dane z ``URL``\n",
    "1. Wypisz ``df: pd.DataFrame``"
   ]
  },
  {
   "cell_type": "code",
   "execution_count": null,
   "metadata": {},
   "outputs": [],
   "source": [
    "URL = 'https://python.astrotech.io/_static/iris.json'"
   ]
  },
  {
   "cell_type": "markdown",
   "metadata": {},
   "source": [
    "## Pandas Read HTML\n",
    "\n",
    "1. Użyj danych z sekcji \"Input\" (patrz poniżej)\n",
    "1. Za pomocą ``pd.read_html()`` wczytaj dane z ``URL``\n",
    "1. Wypisz ``df: pd.DataFrame`` z aktywnymi astronautami Europejskiej Agencji Kosmicznej\n",
    "\n",
    "Podpowiedź:\n",
    "    * Może wymagać instalacji ``lxml`` oraz ``html5lib``: ``pip install --upgrade lxml html5lib``\n",
    "    * ``pd.read_html()`` zwraca listę tabel na stronie, poszukaj która ma odpowiednie dane"
   ]
  },
  {
   "cell_type": "code",
   "execution_count": 2,
   "metadata": {},
   "outputs": [],
   "source": [
    "URL = 'https://python.astrotech.io/_static/european-astronaut-corps.html'"
   ]
  }
 ],
 "metadata": {
  "kernelspec": {
   "display_name": "Python 3",
   "language": "python",
   "name": "python3"
  },
  "language_info": {
   "codemirror_mode": {
    "name": "ipython",
    "version": 3
   },
   "file_extension": ".py",
   "mimetype": "text/x-python",
   "name": "python",
   "nbconvert_exporter": "python",
   "pygments_lexer": "ipython3",
   "version": "3.8.5"
  }
 },
 "nbformat": 4,
 "nbformat_minor": 4
}
