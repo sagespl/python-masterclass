{
 "cells": [
  {
   "cell_type": "markdown",
   "metadata": {},
   "source": [
    "# Pandas - DataFrame - przekształcenia - zadania"
   ]
  },
  {
   "cell_type": "markdown",
   "metadata": {},
   "source": [
    "## DataFrame NaN\n",
    "\n",
    "1. Użyj danych z sekcji \"Input\" (patrz poniżej)\n",
    "1. Wczytaj dane z ``DATA`` jako ``iris: pd.DataFrame``\n",
    "1. Pomiń pierwszą linię z metadanymi\n",
    "1. Zmień nazwy kolumn na:\n",
    "\n",
    "    * Sepal length\n",
    "    * Sepal width\n",
    "    * Petal length\n",
    "    * Petal width\n",
    "    * Species\n",
    "\n",
    "1. Podmień wartości w kolumnie species\n",
    "\n",
    "    * 0 -> 'setosa',\n",
    "    * 1 -> 'versicolor',\n",
    "    * 2 -> 'virginica'\n",
    "\n",
    "1. Wybierz wartości w kolumnie 'Petal length' mniejsze od 4\n",
    "1. Wybrane wartości ustaw na ``NaN``\n",
    "1. Interpoluj liniowo wszystkie wartości ``NaN``\n",
    "1. Usuń wiersze z pozostałymi wartościami ``NaN``\n",
    "1. Wypisz dwa pierwsze wiersze\n",
    "1. Wypisz liczbę wierszy"
   ]
  },
  {
   "cell_type": "code",
   "execution_count": null,
   "metadata": {},
   "outputs": [],
   "source": [
    "DATA = 'https://python.astrotech.io/_static/iris-dirty.csv'"
   ]
  },
  {
   "cell_type": "markdown",
   "metadata": {},
   "source": [
    "## DataFrame Mapping Split\n",
    "\n",
    "1. Użyj danych z sekcji \"Input\" (patrz poniżej)\n",
    "1. Wczytaj dane z ``DATA`` jako ``phones: pd.DataFrame``\n",
    "1. Sparsuj dane w kolumnie ``date`` jako obiekty ``datetime``\n",
    "1. Podziel kolumnę z ``date`` na dwie osobne: datę i czas\n",
    "\n",
    "Podpowiedź:\n",
    "* ``help(phones['date'].dt)``"
   ]
  },
  {
   "cell_type": "code",
   "execution_count": null,
   "metadata": {},
   "outputs": [],
   "source": [
    "DATA = 'https://python.astrotech.io/_static/phones-en.csv'"
   ]
  },
  {
   "cell_type": "markdown",
   "metadata": {},
   "source": [
    "## DataFrame Mapping Translate\n",
    "\n",
    "1. Użyj danych z sekcji \"Input\" (patrz poniżej)\n",
    "1. Wczytaj dane z ``DATA`` jako ``martian: pd.DataFrame``\n",
    "1. Ustaw nagłówek i index na dane zaczytane z pliku\n",
    "1. Przekonwertuj polskie nazwy miesięcy na angielskie\n",
    "1. Sparsuj daty do obiektów ``datetime``\n",
    "\n",
    "Podpowiedź:\n",
    "* ``df['column'].replace(regex=True)``\n",
    "* ``pd.Timestamp``"
   ]
  },
  {
   "cell_type": "code",
   "execution_count": null,
   "metadata": {},
   "outputs": [],
   "source": [
    "DATA = 'https://python.astrotech.io/_static/phones-pl.csv'\n",
    "\n",
    "MONTHS_PLEN = {'styczeń': 'January',\n",
    "               'luty': 'February',\n",
    "               'marzec': 'March',\n",
    "               'kwiecień': 'April',\n",
    "               'maj': 'May',\n",
    "               'czerwiec': 'June',\n",
    "               'lipiec': 'July',\n",
    "               'sierpień': 'August',\n",
    "               'wrzesień': 'September',\n",
    "               'październik': 'October',\n",
    "               'listopad': 'November',\n",
    "               'grudzień': 'December'}"
   ]
  },
  {
   "cell_type": "markdown",
   "metadata": {},
   "source": [
    "## DataFrame Mapping Month\n",
    "\n",
    "1. Użyj danych z sekcji \"Input\" (patrz poniżej)\n",
    "1. Wczytaj dane z ``DATA`` jako ``phones: pd.DataFrame``\n",
    "1. Dodaj kolumnę ``year`` i ``month_name`` poprzez sparsowanie kolumny ``month``\n",
    "1. Nazwa miesiąca musi być ciągiem znaków, a nie liczbą (i.e. 'January', 'May')\n",
    "\n",
    "Przykład:\n",
    "1. jeżeli ``period`` column is \"2015-01\"\n",
    "1. ``year``: 2015\n",
    "1. ``month``: January\n",
    "\n",
    "Podpowiedź:\n",
    "* ``Series.str.split(expand=True)``\n",
    "* ``df[ ['A', 'B'] ] = ...``"
   ]
  },
  {
   "cell_type": "code",
   "execution_count": null,
   "metadata": {},
   "outputs": [],
   "source": [
    "DATA = 'https://python.astrotech.io/_static/phones-en.csv'\n",
    "\n",
    "MONTHS_EN = ['January', 'February', 'March', 'April',\n",
    "             'May', 'June', 'July', 'August', 'September',\n",
    "             'October', 'November', 'December']"
   ]
  },
  {
   "cell_type": "markdown",
   "metadata": {},
   "source": [
    "## DataFrame Mapping Substitute\n",
    "\n",
    "1. Użyj danych z sekcji \"Input\" (patrz poniżej)\n",
    "1. Wczytaj dane z ``DATA`` jako ``trl: pd.DataFrame``\n",
    "1. Wybierz arkusz ``Polish``\n",
    "1. Ustaw nagłówek i index na dane zaczytane z pliku\n",
    "1. Zwróć uwagę na encoding\n",
    "1. Podmień polskie znaki diakrytyczne na litery z alfabetu angielskiego\n",
    "1. Porównaj ``df.replace(regex=True)`` z ``df.applymap()``"
   ]
  },
  {
   "cell_type": "code",
   "execution_count": null,
   "metadata": {},
   "outputs": [],
   "source": [
    "DATA = 'https://python.astrotech.io/_static/astro-trl.xlsx'\n",
    "\n",
    "LETTERS_PLEN = {'ą': 'a', 'ć': 'c', 'ę': 'e',\n",
    "                'ł': 'l', 'ń': 'n', 'ó': 'o',\n",
    "                'ś': 's', 'ż': 'z', 'ź': 'z'}"
   ]
  }
 ],
 "metadata": {
  "kernelspec": {
   "display_name": "Python 3",
   "language": "python",
   "name": "python3"
  },
  "language_info": {
   "codemirror_mode": {
    "name": "ipython",
    "version": 3
   },
   "file_extension": ".py",
   "mimetype": "text/x-python",
   "name": "python",
   "nbconvert_exporter": "python",
   "pygments_lexer": "ipython3",
   "version": "3.8.5"
  }
 },
 "nbformat": 4,
 "nbformat_minor": 4
}
