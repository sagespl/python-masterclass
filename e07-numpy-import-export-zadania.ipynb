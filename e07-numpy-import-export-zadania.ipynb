{
 "cells": [
  {
   "cell_type": "markdown",
   "metadata": {},
   "source": [
    "# NumPy - Import i eksport - zadania"
   ]
  },
  {
   "cell_type": "code",
   "execution_count": null,
   "metadata": {},
   "outputs": [],
   "source": [
    "import numpy as np"
   ]
  },
  {
   "cell_type": "markdown",
   "metadata": {},
   "source": [
    "## Numpy Loadtext\n",
    "\n",
    "1. Użyj danych z sekcji \"Input\" (patrz poniżej)\n",
    "1. Wczytaj tekst z ``URL``\n",
    "1. Z pierwszej linii wybierz nazwy gatunków Irysów i zapisz rezultat jako str do ``species: ndarray``\n",
    "1. W pozostałych linii:\n",
    "\n",
    "    * Wczytaj kolumny z danymi i zapisz jako float do ``features: ndarray``\n",
    "    * Wczytaj ostatnią kolumnę z numerami gatunków i zapisz jako int do ``labels: ndarray``\n",
    "\n",
    "1. Wyświetl ``species``, ``labels`` i ``features``\n",
    "1. Porównaj wyniki z sekcją \"Output\" (patrz poniżej)\n",
    "\n",
    "Output:\n",
    "```python\n",
    "species: ndarray\n",
    "# array(['setosa', 'versicolor', 'virginica'], dtype='<U10')\n",
    "\n",
    "features: ndarray\n",
    "# array([[5.4, 3.9, 1.3, 0.4],\n",
    "#        [5.9, 3. , 5.1, 1.8],\n",
    "#        [6. , 3.4, 4.5, 1.6],\n",
    "#        [7.3, 2.9, 6.3, 1.8],\n",
    "#        ...\n",
    "#        [6.8, 3.2, 5.9, 2.3]])\n",
    "\n",
    "labels: ndarray\n",
    "# array([0, 2, 1, 2, ..., 0, 2, 2, 2])\n",
    "```"
   ]
  },
  {
   "cell_type": "code",
   "execution_count": null,
   "metadata": {},
   "outputs": [],
   "source": [
    "URL = 'https://python.astrotech.io/_static/iris-dirty.csv'"
   ]
  },
  {
   "cell_type": "code",
   "execution_count": null,
   "metadata": {},
   "outputs": [],
   "source": []
  }
 ],
 "metadata": {
  "kernelspec": {
   "display_name": "Python 3",
   "language": "python",
   "name": "python3"
  },
  "language_info": {
   "codemirror_mode": {
    "name": "ipython",
    "version": 3
   },
   "file_extension": ".py",
   "mimetype": "text/x-python",
   "name": "python",
   "nbconvert_exporter": "python",
   "pygments_lexer": "ipython3",
   "version": "3.8.3"
  }
 },
 "nbformat": 4,
 "nbformat_minor": 4
}
