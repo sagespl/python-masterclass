{
 "cells": [
  {
   "cell_type": "markdown",
   "metadata": {},
   "source": [
    "# Pandas - DataFrame - dane - zadania"
   ]
  },
  {
   "cell_type": "markdown",
   "metadata": {},
   "source": [
    "## DataFrame Export CSV\n",
    "\n",
    "1. Użyj danych z sekcji \"Input\" (patrz poniżej)\n",
    "1. Wczytaj dane z ``DATA`` jako ``astro_eva1: pd.DataFrame``\n",
    "1. Wyeksportuj do pliku ``FILE`` dane w formacie ``CSV``"
   ]
  },
  {
   "cell_type": "code",
   "execution_count": null,
   "metadata": {},
   "outputs": [],
   "source": [
    "DATA = 'https://www.worldspaceflight.com/bios/eva/eva.php'\n",
    "FILE = '_temporary.csv'"
   ]
  },
  {
   "cell_type": "markdown",
   "metadata": {},
   "source": [
    "## DataFrame Export JSON\n",
    "\n",
    "1. Użyj danych z sekcji \"Input\" (patrz poniżej)\n",
    "1. Wczytaj dane z ``DATA`` jako ``astro_eva2: pd.DataFrame``\n",
    "1. Wyeksportuj do pliku ``FILE`` dane w formacie ``JSON``"
   ]
  },
  {
   "cell_type": "code",
   "execution_count": null,
   "metadata": {},
   "outputs": [],
   "source": [
    "DATA = 'https://www.worldspaceflight.com/bios/eva/eva2.php'\n",
    "FILE = '_temporary.json'"
   ]
  },
  {
   "cell_type": "markdown",
   "metadata": {},
   "source": [
    "## DataFrame Export Pickle\n",
    "\n",
    "1. Użyj danych z sekcji \"Input\" (patrz poniżej)\n",
    "1. Wczytaj dane z ``DATA`` jako ``astro_eva3: pd.DataFrame``\n",
    "1. Wyeksportuj do pliku ``FILE`` dane w formacie ``JSON``"
   ]
  },
  {
   "cell_type": "code",
   "execution_count": null,
   "metadata": {},
   "outputs": [],
   "source": [
    "DATA = 'https://www.worldspaceflight.com/bios/eva/eva3.php'\n",
    "FILE = '_temporary.pkl'"
   ]
  },
  {
   "cell_type": "markdown",
   "metadata": {},
   "source": [
    "## DataFrame Export Pickle\n",
    "\n",
    "1. Użyj danych z sekcji \"Input\" (patrz poniżej)\n",
    "1. Wczytaj dane z ``DATA`` jako ``astro_eva4: pd.DataFrame``\n",
    "1. Wyeksportuj do pliku ``FILE`` dane w formacie ``SQL``\n",
    "1. Użyj tabeli ``astro_eva``"
   ]
  },
  {
   "cell_type": "code",
   "execution_count": null,
   "metadata": {},
   "outputs": [],
   "source": [
    "DATA = 'https://www.worldspaceflight.com/bios/eva/eva4.php'\n",
    "FILE = '_temporary.sqlite3'"
   ]
  },
  {
   "cell_type": "markdown",
   "metadata": {},
   "source": [
    "## DataFrame Plot\n",
    "\n",
    "1. Użyj danych z sekcji \"Input\" (patrz poniżej)\n",
    "1. Wczytaj dane z ``DATA`` jako ``sensors: pd.DataFrame``\n",
    "1. Wybierz arkusz ``Luminance``\n",
    "1. Sparsuj kolumny z datami\n",
    "1. Wybierz pożądaną datę i lokację, następnie próbkuj co godzinę\n",
    "1. Aktywność jest gdy ``Luminance`` jest różna od zera\n",
    "1. Wyświetl wykres (line) z godzinami aktywności w dla lokacji \"Sleeping Quarters upper\"\n",
    "1. Dla dnia 2019-09-28\n",
    "\n",
    "Podpowiedź:\n",
    "* ``pd.Series.apply(np.sign)``\n",
    "* ``pd.Series.resample('H').sum()``"
   ]
  },
  {
   "cell_type": "code",
   "execution_count": null,
   "metadata": {},
   "outputs": [],
   "source": [
    "DATA = 'https://python.astrotech.io/_static/sensors-optima.xlsx'"
   ]
  }
 ],
 "metadata": {
  "kernelspec": {
   "display_name": "Python 3",
   "language": "python",
   "name": "python3"
  },
  "language_info": {
   "codemirror_mode": {
    "name": "ipython",
    "version": 3
   },
   "file_extension": ".py",
   "mimetype": "text/x-python",
   "name": "python",
   "nbconvert_exporter": "python",
   "pygments_lexer": "ipython3",
   "version": "3.8.5"
  }
 },
 "nbformat": 4,
 "nbformat_minor": 4
}
